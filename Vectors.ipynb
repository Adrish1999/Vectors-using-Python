{
  "nbformat": 4,
  "nbformat_minor": 0,
  "metadata": {
    "colab": {
      "name": "Vectors.ipynb",
      "provenance": [],
      "collapsed_sections": [],
      "include_colab_link": true
    },
    "kernelspec": {
      "name": "python3",
      "display_name": "Python 3"
    }
  },
  "cells": [
    {
      "cell_type": "markdown",
      "metadata": {
        "id": "view-in-github",
        "colab_type": "text"
      },
      "source": [
        "<a href=\"https://colab.research.google.com/github/Adrish1999/Vectors-using-Python/blob/master/Vectors.ipynb\" target=\"_parent\"><img src=\"https://colab.research.google.com/assets/colab-badge.svg\" alt=\"Open In Colab\"/></a>"
      ]
    },
    {
      "cell_type": "code",
      "metadata": {
        "id": "AZGY00wIlIDP",
        "colab_type": "code",
        "colab": {}
      },
      "source": [
        "import numpy as np\n",
        "import matplotlib.pyplot as plt"
      ],
      "execution_count": 0,
      "outputs": []
    },
    {
      "cell_type": "markdown",
      "metadata": {
        "id": "ZkdndVlqr6ON",
        "colab_type": "text"
      },
      "source": [
        "Vector **Plotting**"
      ]
    },
    {
      "cell_type": "code",
      "metadata": {
        "id": "A1hVAStzl-XS",
        "colab_type": "code",
        "outputId": "5f825c1b-ee4b-4654-f946-80d25d0e5155",
        "colab": {
          "base_uri": "https://localhost:8080/",
          "height": 265
        }
      },
      "source": [
        "plt.quiver(0,0,3,4)\n",
        "plt.show()"
      ],
      "execution_count": 0,
      "outputs": [
        {
          "output_type": "display_data",
          "data": {
            "image/png": "[encoded data removed]",
            "text/plain": [
              "<Figure size 432x288 with 1 Axes>"
            ]
          },
          "metadata": {
            "tags": []
          }
        }
      ]
    },
    {
      "cell_type": "code",
      "metadata": {
        "id": "BzHepCGGmDsH",
        "colab_type": "code",
        "outputId": "e94ff476-4837-4a96-f08d-bbbded59be54",
        "colab": {
          "base_uri": "https://localhost:8080/",
          "height": 265
        }
      },
      "source": [
        "plt.quiver(0,0,3,4,scale_units='xy',angles='xy',scale=1)\n",
        "plt.xlim(-5,5)\n",
        "plt.ylim(-5,5)\n",
        "plt.show()"
      ],
      "execution_count": 0,
      "outputs": [
        {
          "output_type": "display_data",
          "data": {
            "image/png": "[encoded data removed]",
            "text/plain": [
              "<Figure size 432x288 with 1 Axes>"
            ]
          },
          "metadata": {
            "tags": []
          }
        }
      ]
    },
    {
      "cell_type": "code",
      "metadata": {
        "id": "G2wyOB2JmJMe",
        "colab_type": "code",
        "outputId": "91ec9d8c-95aa-4443-ca46-f2b403dea9b3",
        "colab": {
          "base_uri": "https://localhost:8080/",
          "height": 265
        }
      },
      "source": [
        "plt.quiver(0,0,3,4,scale_units='xy',angles='xy',scale=1,color='r')\n",
        "plt.quiver(0,0,-3,4,scale_units='xy',angles='xy',scale=1,color='g')\n",
        "plt.xlim(-5,5)\n",
        "plt.ylim(-5,5)\n",
        "plt.show()"
      ],
      "execution_count": 0,
      "outputs": [
        {
          "output_type": "display_data",
          "data": {
            "image/png": "[encoded data removed]",
            "text/plain": [
              "<Figure size 432x288 with 1 Axes>"
            ]
          },
          "metadata": {
            "tags": []
          }
        }
      ]
    },
    {
      "cell_type": "code",
      "metadata": {
        "id": "mvtGqDRXmOAj",
        "colab_type": "code",
        "colab": {}
      },
      "source": [
        "def plot_vectors(vecs):\n",
        "  colors=['r','g','b','y']\n",
        "  i=0\n",
        "  for vec in vecs:\n",
        "    plt.quiver(vec[0],vec[1],vec[2],vec[3],scale_units='xy',angles='xy',scale=1,color=colors[i%len(colors)])\n",
        "    i+=1\n",
        "  plt.xlim(-10,10)\n",
        "  plt.ylim(-10,10)\n",
        "  plt.show()\n"
      ],
      "execution_count": 0,
      "outputs": []
    },
    {
      "cell_type": "code",
      "metadata": {
        "id": "ysRriaWnmTuN",
        "colab_type": "code",
        "outputId": "b66ed09d-382e-43c2-ac20-26ab06ed5570",
        "colab": {
          "base_uri": "https://localhost:8080/",
          "height": 269
        }
      },
      "source": [
        "plot_vectors([(0,0,3,4),(0,0,5,4),(0,0,-2,5),(0,0,4,-3),(0,0,-5,-6),(0,0,-8,3)])"
      ],
      "execution_count": 0,
      "outputs": [
        {
          "output_type": "display_data",
          "data": {
            "image/png": "[encoded data removed]",
            "text/plain": [
              "<Figure size 432x288 with 1 Axes>"
            ]
          },
          "metadata": {
            "tags": []
          }
        }
      ]
    },
    {
      "cell_type": "markdown",
      "metadata": {
        "id": "rsy7xOqTsRMs",
        "colab_type": "text"
      },
      "source": [
        "Vector Addition And Subtraction"
      ]
    },
    {
      "cell_type": "code",
      "metadata": {
        "id": "SqpRoeQLmapf",
        "colab_type": "code",
        "colab": {}
      },
      "source": [
        "vecs=[np.asarray([0,0,3,4]),np.asarray([0,0,5,4]),np.asarray([0,0,-2,5]),np.asarray([0,0,4,-3]),np.asarray([0,0,-5,-6]),np.asarray([0,0,-8,3])]"
      ],
      "execution_count": 0,
      "outputs": []
    },
    {
      "cell_type": "code",
      "metadata": {
        "id": "in8aJBUUm3WH",
        "colab_type": "code",
        "outputId": "8f240f6f-8d40-4a3a-a551-8e598a9205bc",
        "colab": {
          "base_uri": "https://localhost:8080/",
          "height": 34
        }
      },
      "source": [
        "vecs[0]+vecs[3]"
      ],
      "execution_count": 0,
      "outputs": [
        {
          "output_type": "execute_result",
          "data": {
            "text/plain": [
              "array([0, 0, 7, 1])"
            ]
          },
          "metadata": {
            "tags": []
          },
          "execution_count": 9
        }
      ]
    },
    {
      "cell_type": "code",
      "metadata": {
        "id": "mr-Q9Y12o1qD",
        "colab_type": "code",
        "outputId": "22fe1ffb-5aad-40ea-f3d9-2ef15e61a5ce",
        "colab": {
          "base_uri": "https://localhost:8080/",
          "height": 269
        }
      },
      "source": [
        "plot_vectors([vecs[0],vecs[3],vecs[0]+vecs[3]])"
      ],
      "execution_count": 0,
      "outputs": [
        {
          "output_type": "display_data",
          "data": {
            "image/png": "[encoded data removed]",
            "text/plain": [
              "<Figure size 432x288 with 1 Axes>"
            ]
          },
          "metadata": {
            "tags": []
          }
        }
      ]
    },
    {
      "cell_type": "code",
      "metadata": {
        "id": "7wzFvvTuo_3h",
        "colab_type": "code",
        "outputId": "7fc6201c-58e2-4e97-c953-28a143428663",
        "colab": {
          "base_uri": "https://localhost:8080/",
          "height": 269
        }
      },
      "source": [
        "plot_vectors([vecs[0],vecs[2],vecs[0]+vecs[2]])"
      ],
      "execution_count": 0,
      "outputs": [
        {
          "output_type": "display_data",
          "data": {
            "image/png": "[encoded data removed]",
            "text/plain": [
              "<Figure size 432x288 with 1 Axes>"
            ]
          },
          "metadata": {
            "tags": []
          }
        }
      ]
    },
    {
      "cell_type": "code",
      "metadata": {
        "id": "hnUMb5qop2S-",
        "colab_type": "code",
        "outputId": "f4e65a4a-bcb7-4c2b-eae8-48ed9e48be40",
        "colab": {
          "base_uri": "https://localhost:8080/",
          "height": 269
        }
      },
      "source": [
        "plot_vectors([vecs[3],vecs[3],vecs[3]+vecs[3]])"
      ],
      "execution_count": 0,
      "outputs": [
        {
          "output_type": "display_data",
          "data": {
            "image/png": "[encoded data removed]",
            "text/plain": [
              "<Figure size 432x288 with 1 Axes>"
            ]
          },
          "metadata": {
            "tags": []
          }
        }
      ]
    },
    {
      "cell_type": "code",
      "metadata": {
        "id": "xcHqpZhKqPZH",
        "colab_type": "code",
        "outputId": "804ad70c-1aab-4376-9b10-60ce4e0d82f7",
        "colab": {
          "base_uri": "https://localhost:8080/",
          "height": 269
        }
      },
      "source": [
        "plot_vectors([vecs[0],vecs[3],vecs[0]-vecs[3]])"
      ],
      "execution_count": 0,
      "outputs": [
        {
          "output_type": "display_data",
          "data": {
            "image/png": "[encoded data removed]",
            "text/plain": [
              "<Figure size 432x288 with 1 Axes>"
            ]
          },
          "metadata": {
            "tags": []
          }
        }
      ]
    },
    {
      "cell_type": "code",
      "metadata": {
        "id": "zOROtuZpqliX",
        "colab_type": "code",
        "outputId": "c205455e-fd40-4973-b864-6deb277a78e8",
        "colab": {
          "base_uri": "https://localhost:8080/",
          "height": 269
        }
      },
      "source": [
        "plot_vectors([vecs[0],-vecs[3],vecs[0]+(-vecs[3])])"
      ],
      "execution_count": 0,
      "outputs": [
        {
          "output_type": "display_data",
          "data": {
            "image/png": "[encoded data removed]",
            "text/plain": [
              "<Figure size 432x288 with 1 Axes>"
            ]
          },
          "metadata": {
            "tags": []
          }
        }
      ]
    },
    {
      "cell_type": "markdown",
      "metadata": {
        "id": "gWZa09Fhsb1u",
        "colab_type": "text"
      },
      "source": [
        "Vector **Dot** **Product**"
      ]
    },
    {
      "cell_type": "markdown",
      "metadata": {
        "id": "_bT7wZo0tGEA",
        "colab_type": "text"
      },
      "source": [
        "$\\vec{a}\\cdot\\vec{b}=|\\vec{a}||\\vec{b}|cos(\\theta)=a_xb_x+a_yb_y$"
      ]
    },
    {
      "cell_type": "code",
      "metadata": {
        "id": "9J1vXBSotoaQ",
        "colab_type": "code",
        "colab": {}
      },
      "source": [
        "a=np.asarray([3,4])\n",
        "b=np.asarray([4,-1])"
      ],
      "execution_count": 0,
      "outputs": []
    },
    {
      "cell_type": "code",
      "metadata": {
        "id": "P7pjfliluXqJ",
        "colab_type": "code",
        "colab": {}
      },
      "source": [
        "a_dot_b=np.dot(a,b)"
      ],
      "execution_count": 0,
      "outputs": []
    },
    {
      "cell_type": "code",
      "metadata": {
        "id": "k1YQpCkHubml",
        "colab_type": "code",
        "outputId": "2a138dca-7d5a-4fab-e8ef-086dd89ced47",
        "colab": {
          "base_uri": "https://localhost:8080/",
          "height": 34
        }
      },
      "source": [
        "print(a_dot_b)"
      ],
      "execution_count": 0,
      "outputs": [
        {
          "output_type": "stream",
          "text": [
            "8\n"
          ],
          "name": "stdout"
        }
      ]
    },
    {
      "cell_type": "code",
      "metadata": {
        "id": "-NN6HiyxueOz",
        "colab_type": "code",
        "colab": {}
      },
      "source": [
        "#projection of vector a on b\n",
        "a_b=np.dot(a,b)/np.linalg.norm(b)"
      ],
      "execution_count": 0,
      "outputs": []
    },
    {
      "cell_type": "code",
      "metadata": {
        "id": "ajGloxhhvU1V",
        "colab_type": "code",
        "outputId": "d9b8dc23-5f6e-4c45-bbf7-ef9c53f26002",
        "colab": {
          "base_uri": "https://localhost:8080/",
          "height": 34
        }
      },
      "source": [
        "print(a_b)"
      ],
      "execution_count": 0,
      "outputs": [
        {
          "output_type": "stream",
          "text": [
            "1.9402850002906638\n"
          ],
          "name": "stdout"
        }
      ]
    },
    {
      "cell_type": "code",
      "metadata": {
        "id": "QjbLiJfGvWzV",
        "colab_type": "code",
        "colab": {}
      },
      "source": [
        "vec_a_b=(a_b/np.linalg.norm(b))*b"
      ],
      "execution_count": 0,
      "outputs": []
    },
    {
      "cell_type": "code",
      "metadata": {
        "id": "onOZTXbwvu2m",
        "colab_type": "code",
        "outputId": "df4b7f4a-250b-4652-a757-0b3cc1bfa7ca",
        "colab": {
          "base_uri": "https://localhost:8080/",
          "height": 34
        }
      },
      "source": [
        "print(vec_a_b)"
      ],
      "execution_count": 0,
      "outputs": [
        {
          "output_type": "stream",
          "text": [
            "[ 1.88235294 -0.47058824]\n"
          ],
          "name": "stdout"
        }
      ]
    },
    {
      "cell_type": "code",
      "metadata": {
        "id": "o8Y6iarIvxFE",
        "colab_type": "code",
        "outputId": "8f03404d-8f7b-4501-edc7-320bcfbc0ad1",
        "colab": {
          "base_uri": "https://localhost:8080/",
          "height": 269
        }
      },
      "source": [
        "plot_vectors([np.asarray([0,0,3,4]),np.asarray([0,0,4,-1]),np.asarray([0,0,1.88235294 ,-0.47058824])])"
      ],
      "execution_count": 0,
      "outputs": [
        {
          "output_type": "display_data",
          "data": {
            "image/png": "[encoded data removed]",
            "text/plain": [
              "<Figure size 432x288 with 1 Axes>"
            ]
          },
          "metadata": {
            "tags": []
          }
        }
      ]
    },
    {
      "cell_type": "code",
      "metadata": {
        "id": "U5w9_dLswXe4",
        "colab_type": "code",
        "colab": {}
      },
      "source": [
        ""
      ],
      "execution_count": 0,
      "outputs": []
    }
  ]
}